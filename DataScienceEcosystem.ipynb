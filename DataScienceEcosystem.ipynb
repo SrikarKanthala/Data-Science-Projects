{
  "nbformat": 4,
  "nbformat_minor": 0,
  "metadata": {
    "colab": {
      "provenance": []
    },
    "kernelspec": {
      "name": "python3",
      "display_name": "Python 3"
    },
    "language_info": {
      "name": "python"
    }
  },
  "cells": [
    {
      "cell_type": "markdown",
      "source": [
        "#Data Science Tools and Ecosystem"
      ],
      "metadata": {
        "id": "n8PpcVEoLkJR"
      }
    },
    {
      "cell_type": "markdown",
      "source": [
        "## Introduction\n",
        "\n",
        "This notebook provides an overview of various aspects of data science, including languages, libraries, and tools."
      ],
      "metadata": {
        "id": "KSw9ztFtLkVg"
      }
    },
    {
      "cell_type": "markdown",
      "source": [
        "##Some of the popular languages that Data Scientists use are:\n",
        "\n",
        "- Python\n",
        "- R\n",
        "- SQL\n",
        "- Julia\n",
        "- Scala"
      ],
      "metadata": {
        "id": "qL8CvzRUMrpm"
      }
    },
    {
      "cell_type": "markdown",
      "source": [
        "## Data Science Libraries\n",
        "\n",
        "- NumPy\n",
        "- pandas\n",
        "- scikit-learn\n",
        "- TensorFlow\n",
        "- PyTorch\n",
        "- Matplotlib\n"
      ],
      "metadata": {
        "id": "w8ji_bEdNukX"
      }
    },
    {
      "cell_type": "markdown",
      "source": [
        "## Data Science Tools\n",
        "\n",
        "| Tool         | Description                        |\n",
        "|--------------|------------------------------------|\n",
        "| Jupyter      | Interactive computing environment  |\n",
        "| RStudio      | IDE for R programming               |\n",
        "| GitHub        | Version control and collaboration   |\n",
        "| Tableau      | Data visualization                  |\n",
        "| Excel        | Spreadsheet software                |\n"
      ],
      "metadata": {
        "id": "z8nVrDHpOHF-"
      }
    },
    {
      "cell_type": "markdown",
      "source": [
        "## Arithmetic Expression Examples\n",
        "\n",
        "In this section, we will explore basic arithmetic expressions and their results.\n"
      ],
      "metadata": {
        "id": "RzSq4nm-Omi2"
      }
    },
    {
      "cell_type": "code",
      "source": [
        "# Multiplying and Adding Numbers\n",
        "a = 5\n",
        "b = 3\n",
        "c = 2\n",
        "\n",
        "# Multiplication\n",
        "product = a * b\n",
        "\n",
        "# Addition\n",
        "sum_result = product + c\n",
        "\n",
        "product, sum_result\n"
      ],
      "metadata": {
        "colab": {
          "base_uri": "https://localhost:8080/"
        },
        "id": "dammfej3PKKb",
        "outputId": "ba8724c8-c7a5-4370-a637-f4fd2f9904c4"
      },
      "execution_count": 1,
      "outputs": [
        {
          "output_type": "execute_result",
          "data": {
            "text/plain": [
              "(15, 17)"
            ]
          },
          "metadata": {},
          "execution_count": 1
        }
      ]
    },
    {
      "cell_type": "code",
      "source": [
        "# Convert Minutes to Hours\n",
        "minutes = 120\n",
        "hours = minutes / 60\n",
        "\n",
        "hours\n"
      ],
      "metadata": {
        "colab": {
          "base_uri": "https://localhost:8080/"
        },
        "id": "-7ve3gidPtDT",
        "outputId": "ae11a75e-c41d-42a6-d42c-d068424a11b2"
      },
      "execution_count": 2,
      "outputs": [
        {
          "output_type": "execute_result",
          "data": {
            "text/plain": [
              "2.0"
            ]
          },
          "metadata": {},
          "execution_count": 2
        }
      ]
    },
    {
      "cell_type": "markdown",
      "source": [
        "## Objectives\n",
        "\n",
        "- Understand data science languages and libraries\n",
        "- Learn about data science tools\n",
        "- Practice basic arithmetic expressions in code\n",
        "- Convert time units using Python\n"
      ],
      "metadata": {
        "id": "hgP0trK-QhqN"
      }
    },
    {
      "cell_type": "markdown",
      "source": [
        "## Author\n",
        "\n",
        "Srikar Kanthala"
      ],
      "metadata": {
        "id": "SSEIhlDVQ7N4"
      }
    }
  ]
}